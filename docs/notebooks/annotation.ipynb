{
 "cells": [
  {
   "cell_type": "markdown",
   "metadata": {},
   "source": [
    "# Annotation Tutorial\n",
    "\n",
    "**NB**: please refer to the scVI-dev notebook for introduction of the scVI package.\n",
    "\n",
    "In this notebook, we investigate how semi-supervised learning combined with the probabilistic modelling of latent variables in scVI can help address the annotation problem.\n",
    "\n",
    "The annotation problem consists in labelling cells, ie. **inferring their cell types**, knowing only a part of the labels."
   ]
  },
  {
   "cell_type": "code",
   "execution_count": 1,
   "metadata": {},
   "outputs": [
    {
     "name": "stdout",
     "output_type": "stream",
     "text": [
      "/home/ubuntu/scVI\n"
     ]
    }
   ],
   "source": [
    "cd ../.."
   ]
  },
  {
   "cell_type": "markdown",
   "metadata": {},
   "source": [
    "### Loading Config"
   ]
  },
  {
   "cell_type": "code",
   "execution_count": 2,
   "metadata": {},
   "outputs": [
    {
     "name": "stdout",
     "output_type": "stream",
     "text": [
      "{'save_path': 'data/'}\n"
     ]
    }
   ],
   "source": [
    "import json\n",
    "with open('docs/notebooks/annotation.config.json') as f:\n",
    "    config = json.load(f)\n",
    "print(config)\n",
    "\n",
    "n_epochs_all = config['n_epochs'] if 'n_epochs' in config else None\n",
    "save_path = config['save_path'] if 'save_path' in config else 'data/'\n",
    "n_samples_tsne = config['n_samples_tsne'] if 'n_samples_tsne' in config else None\n",
    "n_samples_posterior_density = config['n_samples_posterior_density'] if 'n_samples_posterior_density' in config else None\n",
    "train_size = config['train_size'] if 'train_size' in config else None\n",
    "M_sampling_all = config['M_sampling'] if 'M_sampling' in config else None\n",
    "M_permutation_all = config['M_permutation'] if 'M_permutation' in config else None\n",
    "n_labelled_samples_per_class = config['n_labelled_samples_per_class'] if 'n_labelled_samples_per_class' in config else None"
   ]
  },
  {
   "cell_type": "code",
   "execution_count": 3,
   "metadata": {},
   "outputs": [
    {
     "name": "stdout",
     "output_type": "stream",
     "text": [
      "File data/expression.bin already downloaded\n",
      "Preprocessing Cortex data\n",
      "Finished preprocessing Cortex data\n"
     ]
    }
   ],
   "source": [
    "from scvi.dataset import CortexDataset\n",
    "from scvi.models import SCANVI, VAE\n",
    "from scvi.inference import JointSemiSupervisedTrainer\n",
    "\n",
    "gene_dataset = CortexDataset(save_path=save_path)"
   ]
  },
  {
   "cell_type": "markdown",
   "metadata": {},
   "source": [
    "We instantiate the SVAEC model and train it over 250 epochs. Only labels from the `data_loader_labelled` will be used, but to cross validate the results, the labels of `data_loader_unlabelled` will is used at test time. The accuracy of the `unlabelled` dataset reaches 93% here at the end of training."
   ]
  },
  {
   "cell_type": "code",
   "execution_count": 4,
   "metadata": {},
   "outputs": [
    {
     "name": "stdout",
     "output_type": "stream",
     "text": [
      "File data/expression.bin already downloaded\n",
      "Preprocessing Cortex data\n",
      "Finished preprocessing Cortex data\n",
      "training: 100%|██████████| 100/100 [00:40<00:00,  2.45it/s]\n"
     ]
    },
    {
     "data": {
      "text/plain": [
       "0.9189097103918228"
      ]
     },
     "execution_count": 4,
     "metadata": {},
     "output_type": "execute_result"
    }
   ],
   "source": [
    "gene_dataset = CortexDataset(save_path=save_path)\n",
    "\n",
    "use_batches=False\n",
    "use_cuda=True\n",
    "\n",
    "n_epochs = 100 if n_epochs_all is None else n_epochs_all\n",
    "n_cl =  10 if n_labelled_samples_per_class is None else n_labelled_samples_per_class\n",
    "scanvi = SCANVI(gene_dataset.nb_genes, gene_dataset.n_batches, gene_dataset.n_labels)\n",
    "trainer = JointSemiSupervisedTrainer(scanvi, gene_dataset, \n",
    "                                     n_labelled_samples_per_class=n_cl, \n",
    "                                     classification_ratio=100)\n",
    "trainer.train(n_epochs=n_epochs)\n",
    "\n",
    "trainer.unlabelled_set.accuracy()"
   ]
  },
  {
   "cell_type": "markdown",
   "metadata": {},
   "source": [
    "**Benchmarking against other algorithms**\n",
    "\n",
    "We can compare ourselves against the random forest and SVM algorithms, where we do grid search with 3-fold cross validation to find the best hyperparameters of these algorithms. This is automatically performed through the functions **`compute_accuracy_svc`** and **`compute_accuracy_rf`**.\n",
    "\n",
    "These functions should be given as input the numpy array corresponding to the equivalent dataloaders, which is the purpose of the **`get_raw_data`** method from `scvi.dataset.utils`.\n",
    "\n",
    "The format of the result is an Accuracy named tuple object giving higher granularity information about the accuracy ie, with attributes:\n",
    "\n",
    "- **unweighted**: the standard definition of accuracy\n",
    "\n",
    "- **weighted**: we might give the same weight to all classes in the final accuracy results. Informative only if the dataset is unbalanced.\n",
    "\n",
    "- **worst**: the worst accuracy score for the classes\n",
    "\n",
    "- **accuracy_classes** : give the detail of the accuracy per classes\n",
    "\n",
    "\n",
    "Compute the accuracy score for rf and svc"
   ]
  },
  {
   "cell_type": "code",
   "execution_count": 5,
   "metadata": {},
   "outputs": [
    {
     "name": "stdout",
     "output_type": "stream",
     "text": [
      "\n",
      "SVC score test :\n",
      " Accuracy(unweighted=0.8701873935264055, weighted=0.8465908861701248, worst=0.7223650385604113, accuracy_classes=[0.794392523364486, 0.9066666666666666, 0.8857142857142857, 0.7954545454545454, 0.9345679012345679, 0.8869752421959096, 0.7223650385604113])\n",
      "\n",
      "RF score train :\n",
      " Accuracy(unweighted=0.8933560477001703, weighted=0.874333009653023, worst=0.6503856041131105, accuracy_classes=[0.883177570093458, 0.8977777777777778, 0.9964285714285714, 0.8181818181818182, 0.9604938271604938, 0.9138858988159311, 0.6503856041131105])\n"
     ]
    }
   ],
   "source": [
    "from scvi.inference.annotation import compute_accuracy_rf, compute_accuracy_svc\n",
    "\n",
    "data_train, labels_train = trainer.labelled_set.raw_data()\n",
    "data_test, labels_test = trainer.unlabelled_set.raw_data()\n",
    "svc_scores = compute_accuracy_svc(data_train, labels_train, data_test, labels_test)\n",
    "rf_scores = compute_accuracy_rf(data_train, labels_train, data_test, labels_test)\n",
    "\n",
    "print(\"\\nSVC score test :\\n\", svc_scores[0][1])\n",
    "print(\"\\nRF score train :\\n\", rf_scores[0][1])"
   ]
  }
 ],
 "metadata": {
  "kernelspec": {
   "display_name": "Python [default]",
   "language": "python",
   "name": "python3"
  },
  "language_info": {
   "codemirror_mode": {
    "name": "ipython",
    "version": 3
   },
   "file_extension": ".py",
   "mimetype": "text/x-python",
   "name": "python",
   "nbconvert_exporter": "python",
   "pygments_lexer": "ipython3",
   "version": "3.6.4"
  }
 },
 "nbformat": 4,
 "nbformat_minor": 1
}
