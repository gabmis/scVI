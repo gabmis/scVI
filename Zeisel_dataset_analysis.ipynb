{
 "cells": [
  {
   "cell_type": "markdown",
   "metadata": {},
   "source": [
    "# Download the dataset"
   ]
  },
  {
   "cell_type": "code",
   "execution_count": 1,
   "metadata": {},
   "outputs": [
    {
     "name": "stderr",
     "output_type": "stream",
     "text": [
      "121130KB [00:23, 5222.26KB/s]                            \n"
     ]
    }
   ],
   "source": [
    "from tqdm import tqdm\n",
    "import urllib\n",
    "\n",
    "url = \"https://storage.googleapis.com/linnarsson-lab-www-blobs/blobs/cortex/expression_mRNA_17-Aug-2014.txt\"\n",
    "r = urllib.urlopen(url)\n",
    "total_size = int(r.headers['content-length'])/1000; \n",
    "\n",
    "def readIter(f, blocksize=1000):\n",
    "    \"\"\"Given a file 'f', returns an iterator that returns bytes of\n",
    "    size 'blocksize' from the file, using read().\"\"\"\n",
    "    while True:\n",
    "        data = f.read(blocksize)\n",
    "        if not data: break\n",
    "        yield data\n",
    "        \n",
    "with open('expression.bin', 'wb') as f:\n",
    "    for data in tqdm(readIter(r), total=total_size, unit='KB', unit_scale=False):\n",
    "        f.write(data)"
   ]
  },
  {
   "cell_type": "markdown",
   "metadata": {},
   "source": [
    "# Import the scVI model"
   ]
  },
  {
   "cell_type": "code",
   "execution_count": 2,
   "metadata": {
    "collapsed": true
   },
   "outputs": [],
   "source": [
    "%load_ext autoreload\n",
    "%autoreload 2\n",
    "import scVI\n",
    "import tensorflow as tf\n",
    "from benchmarking import *\n",
    "from helper import *"
   ]
  },
  {
   "cell_type": "code",
   "execution_count": 3,
   "metadata": {
    "collapsed": true
   },
   "outputs": [],
   "source": [
    "import numpy as np\n",
    "import time\n",
    "import pandas as pd\n",
    "from sklearn.model_selection import train_test_split\n",
    "from sklearn.manifold import TSNE\n",
    "import matplotlib.pyplot as plt\n",
    "%matplotlib inline"
   ]
  },
  {
   "cell_type": "markdown",
   "metadata": {},
   "source": [
    "# Loading and filtering data"
   ]
  },
  {
   "cell_type": "code",
   "execution_count": 4,
   "metadata": {
    "collapsed": true
   },
   "outputs": [],
   "source": [
    "X = pd.read_csv(\"expression.bin\", sep=\"\\t\", low_memory=False).T\n",
    "clusters = np.array(X[7], dtype=str)[2:]\n",
    "cell_types, labels = np.unique(clusters, return_inverse=True)\n",
    "gene_names = np.array(X.iloc[0], dtype=str)[10:]\n",
    "X = X.loc[:, 10:]\n",
    "X = X.drop(X.index[0])\n",
    "expression_data = np.array(X, dtype=np.int)[1:]\n",
    "\n",
    "# keep the most variable genes according to the Biscuit ICML paper\n",
    "selected = np.std(expression_data, axis=0).argsort()[-558:][::-1]\n",
    "expression_data = expression_data[:, selected]\n",
    "gene_names = gene_names[selected].astype(str)\n",
    "\n",
    "#train test split for log-likelihood scores\n",
    "expression_train, expression_test, c_train, c_test = train_test_split(expression_data, labels, random_state=0)"
   ]
  },
  {
   "cell_type": "code",
   "execution_count": 5,
   "metadata": {},
   "outputs": [
    {
     "data": {
      "text/plain": [
       "array(['astrocytes_ependymal', 'endothelial-mural', 'interneurons',\n",
       "       'microglia', 'oligodendrocytes', 'pyramidal CA1', 'pyramidal SS'],\n",
       "      dtype='|S64')"
      ]
     },
     "execution_count": 5,
     "metadata": {},
     "output_type": "execute_result"
    }
   ],
   "source": [
    "# visualizing the cell-types\n",
    "cell_types"
   ]
  },
  {
   "cell_type": "markdown",
   "metadata": {},
   "source": [
    "# Getting prior for scaling parameters"
   ]
  },
  {
   "cell_type": "code",
   "execution_count": 6,
   "metadata": {
    "collapsed": true
   },
   "outputs": [],
   "source": [
    "log_library_size = np.log(np.sum(expression_train, axis=1))\n",
    "mean, var = np.mean(log_library_size), np.var(log_library_size)"
   ]
  },
  {
   "cell_type": "markdown",
   "metadata": {},
   "source": [
    "# Loading scVI on memory"
   ]
  },
  {
   "cell_type": "code",
   "execution_count": 7,
   "metadata": {
    "collapsed": true
   },
   "outputs": [],
   "source": [
    "batch_size = 128\n",
    "learning_rate = 0.001\n",
    "epsilon = 0.01\n",
    "latent_dimension = 10"
   ]
  },
  {
   "cell_type": "code",
   "execution_count": 8,
   "metadata": {},
   "outputs": [
    {
     "name": "stdout",
     "output_type": "stream",
     "text": [
      "Running scVI on 558 genes\n",
      "scVI will run without batch correction\n",
      "Will work on mode numeric for incorporating library size\n",
      "Will work on mode gene for modeling inverse dispersion param\n",
      "Will apply zero inflation\n",
      "1 hidden layers at 128 each for a final 10 latent space\n"
     ]
    }
   ],
   "source": [
    "tf.reset_default_graph()\n",
    "expression = tf.placeholder(tf.float32, (None, expression_train.shape[1]), name='x')\n",
    "kl_scalar = tf.placeholder(tf.float32, (), name='kl_scalar')\n",
    "optimizer = tf.train.AdamOptimizer(learning_rate=learning_rate, epsilon=epsilon)\n",
    "training_phase = tf.placeholder(tf.bool, (), name='training_phase')\n",
    "\n",
    "# getting priors\n",
    "log_library_size = np.log(np.sum(expression_train, axis=1))\n",
    "mean, var = np.mean(log_library_size), np.var(log_library_size)\n",
    "\n",
    "# loading data\n",
    "model = scVI.scVIModel(expression=expression, kl_scale=kl_scalar, \\\n",
    "                         optimize_algo=optimizer, phase=training_phase, \\\n",
    "                          library_size_mean=mean, library_size_var=var, n_latent=latent_dimension)\n",
    "\n",
    "#starting computing session\n",
    "sess = tf.Session()"
   ]
  },
  {
   "cell_type": "code",
   "execution_count": 9,
   "metadata": {
    "collapsed": true
   },
   "outputs": [],
   "source": [
    "# Initialize the graph and fit the training set\n",
    "# this takes less than a minute on a Tesla K80\n",
    "sess.run(tf.global_variables_initializer())\n",
    "result = train_model(model, (expression_train, expression_test), sess, 250, batch_size=batch_size)"
   ]
  },
  {
   "cell_type": "code",
   "execution_count": 10,
   "metadata": {
    "scrolled": true
   },
   "outputs": [
    {
     "data": {
      "image/png": "[encoded data removed]",
      "text/plain": [
       "<matplotlib.figure.Figure at 0x7fb7cc333e10>"
      ]
     },
     "metadata": {},
     "output_type": "display_data"
    }
   ],
   "source": [
    "plot_training_info(result)"
   ]
  },
  {
   "cell_type": "markdown",
   "metadata": {},
   "source": [
    "# Clustering"
   ]
  },
  {
   "cell_type": "markdown",
   "metadata": {},
   "source": [
    "We can here sample from the latent space, you can verify that the clustering metrics are robust with respect to different samples from the variational posterior"
   ]
  },
  {
   "cell_type": "code",
   "execution_count": 14,
   "metadata": {},
   "outputs": [
    {
     "name": "stdout",
     "output_type": "stream",
     "text": [
      "Silhouette 0.228034 \n",
      "Adjusted Rand Index 0.797367379545 \n",
      "Normalized Mutual Information 0.821613560628\n"
     ]
    }
   ],
   "source": [
    "dic_full = {expression: expression_train, training_phase:False}\n",
    "latent = sess.run(model.z, feed_dict=dic_full)\n",
    "clustering_score = cluster_scores(latent, 7, c_train)\n",
    "print \"Silhouette\", clustering_score[0], \"\\nAdjusted Rand Index\", clustering_score[1], \\\n",
    "        \"\\nNormalized Mutual Information\", clustering_score[2]"
   ]
  },
  {
   "cell_type": "markdown",
   "metadata": {},
   "source": [
    "# Visualization"
   ]
  },
  {
   "cell_type": "markdown",
   "metadata": {},
   "source": [
    "Our latent space is low-dimensional and therefore tSNE friendly !"
   ]
  },
  {
   "cell_type": "code",
   "execution_count": 15,
   "metadata": {
    "collapsed": true
   },
   "outputs": [],
   "source": [
    "def show_tSNE(latent, labels):\n",
    "    tsne = TSNE().fit_transform(latent)\n",
    "    plt.figure(figsize=(5, 5))\n",
    "    plt.scatter(tsne[:, 0], tsne[:, 1], c=labels, \\\n",
    "                                   cmap=plt.get_cmap(\"tab10\", 7), edgecolors='none')\n",
    "    plt.axis(\"off\")"
   ]
  },
  {
   "cell_type": "code",
   "execution_count": 16,
   "metadata": {},
   "outputs": [
    {
     "data": {
      "image/png": "[encoded data removed]",
      "text/plain": [
       "<matplotlib.figure.Figure at 0x7f8cba7ef350>"
      ]
     },
     "metadata": {},
     "output_type": "display_data"
    }
   ],
   "source": [
    "show_tSNE(latent, c_train)"
   ]
  },
  {
   "cell_type": "markdown",
   "metadata": {},
   "source": [
    "# Imputation"
   ]
  },
  {
   "cell_type": "markdown",
   "metadata": {},
   "source": [
    "In the original submission, we recomplete scVI's inference on corrupted data and we evaluate how well different algorithms can recover the original information. In this notebook, we instead show how to sample the parameters of the generative model"
   ]
  },
  {
   "cell_type": "code",
   "execution_count": 60,
   "metadata": {
    "collapsed": true
   },
   "outputs": [],
   "source": [
    "dic_full = {expression: expression_train, training_phase:False, kl_scalar:1.} \n",
    "scale_ = sess.run(model.px_scale,  feed_dict=dic_full)"
   ]
  },
  {
   "cell_type": "markdown",
   "metadata": {},
   "source": [
    "+ px_scale: normalized expression level inside scVI (rho param in the paper, used for DE)\n",
    "+ px_rate: mean of the negative binomial (used for imputation)\n",
    "+ px_r: log of the dispersion parameter for every gene (used for posterior analysis)\n",
    "+ px_dropout: logit of the zero inflation mixture weight"
   ]
  },
  {
   "cell_type": "code",
   "execution_count": 107,
   "metadata": {},
   "outputs": [
    {
     "data": {
      "image/png": "[encoded data removed]",
      "text/plain": [
       "<matplotlib.figure.Figure at 0x7f8cbbfe50d0>"
      ]
     },
     "metadata": {},
     "output_type": "display_data"
    }
   ],
   "source": [
    "# we can visualize for a gene known to be DE for oligodendrocytes (#4) VS pyramidal CA1 (#5)\n",
    "gene_index = np.where(gene_names == \"Thy1\")[0]\n",
    "plt.hist(scale_[c_train == 4, gene_index], alpha=0.5, normed=True)\n",
    "plt.hist(scale_[c_train == 5, gene_index], alpha=0.5, normed=True)\n",
    "plt.show()"
   ]
  },
  {
   "cell_type": "markdown",
   "metadata": {},
   "source": [
    "# Differential expression"
   ]
  },
  {
   "cell_type": "code",
   "execution_count": 108,
   "metadata": {
    "collapsed": true
   },
   "outputs": [],
   "source": [
    "# Say we analyze oligodendrocytes (#4) VS pyramidal CA1 (#5)\n",
    "couple_celltypes = (4, 5)\n",
    "\n",
    "# sample 100 cells from each clusters and for each of them, get 200 draws from the posterior\n",
    "# the more cells, the better. There is a tradeoff (M_z cannot be 200 if A is 10k) but overall this works out well\n",
    "A, B, M_z = 200, 400, 100\n",
    "set_a = np.where(c_train == couple_celltypes[0])[0]\n",
    "set_b = np.where(c_train == couple_celltypes[1])[0]"
   ]
  },
  {
   "cell_type": "code",
   "execution_count": 109,
   "metadata": {
    "collapsed": true
   },
   "outputs": [],
   "source": [
    "def sample_posterior(model, X, M_z):\n",
    "    # shape and simulation\n",
    "    results = {}\n",
    "    ind = np.arange(X.shape[0])\n",
    "\n",
    "    # repeat the data for sampling\n",
    "    X_m = np.repeat(X, M_z, axis=0)\n",
    "    gamma_m = np.repeat(r, M_z, axis=0)\n",
    "    ind = np.repeat(ind, M_z, axis=0)\n",
    "\n",
    "    #NN part\n",
    "    dic_x = {expression: X_m, training_phase:False, kl_scalar:1.} \n",
    "    z_m, l_m = sess.run((model.z, model.library), feed_dict=dic_x)\n",
    "    dic_z = {model.z: z_m, model.library:l_m, training_phase:False, kl_scalar:1.}\n",
    "    rate = sess.run((model.px_scale), feed_dict=dic_z)\n",
    "    results[\"sample_rate\"] = rate\n",
    "    results[\"index\"] = ind\n",
    "    return results"
   ]
  },
  {
   "cell_type": "code",
   "execution_count": 110,
   "metadata": {
    "collapsed": true
   },
   "outputs": [],
   "source": [
    "def get_sampling(model, subset_a, subset_b, M_z):\n",
    "    #get q(z| xa) and q(z| xb) and sample M times from it, then output gamma parametrizations\n",
    "    res_a = sample_posterior(model, expression_train[subset_a], M_z)\n",
    "    res_b = sample_posterior(model, expression_train[subset_b], M_z)\n",
    "    return res_a, res_b"
   ]
  },
  {
   "cell_type": "code",
   "execution_count": 111,
   "metadata": {
    "collapsed": true
   },
   "outputs": [],
   "source": [
    "def get_statistics(res_a, res_b, M_p=10000, permutation=False):\n",
    "    \"\"\"\n",
    "    Output average over statistics in a symmetric way (a against b)\n",
    "    forget the sets if permutation is True\n",
    "    \"\"\"\n",
    "    \n",
    "    #agregate dataset\n",
    "    samples = np.vstack((res_a[\"sample_rate\"], res_b[\"sample_rate\"]))\n",
    "    \n",
    "    # prepare the pairs for sampling\n",
    "    list_1 = list(np.arange(res_a[\"sample_rate\"].shape[0]))\n",
    "    list_2 = list(res_a[\"sample_rate\"].shape[0] + np.arange(res_b[\"sample_rate\"].shape[0]))\n",
    "    if not permutation:\n",
    "        #case1: no permutation, sample from A and then from B\n",
    "        u, v = np.random.choice(list_1, size=M_p), np.random.choice(list_2, size=M_p)\n",
    "    else:\n",
    "        #case2: permutation, sample from A+B twice\n",
    "        u, v = (np.random.choice(list_1+list_2, size=M_p), \\\n",
    "                    np.random.choice(list_1+list_2, size=M_p))\n",
    "    \n",
    "    # then constitutes the pairs\n",
    "    first_set = samples[u]\n",
    "    second_set = samples[v]\n",
    "    \n",
    "    res = np.mean(first_set >= second_set, 0)\n",
    "    res = np.log(res) - np.log(1-res)\n",
    "    return res"
   ]
  },
  {
   "cell_type": "code",
   "execution_count": 112,
   "metadata": {
    "collapsed": true
   },
   "outputs": [],
   "source": [
    "subset_a = np.random.choice(set_a, A)\n",
    "subset_b = np.random.choice(set_b, B)\n",
    "res_a, res_b = get_sampling(model, subset_a, subset_b, M_z)\n",
    "st = get_statistics(res_a, res_b, M_p=100000)"
   ]
  },
  {
   "cell_type": "code",
   "execution_count": 113,
   "metadata": {},
   "outputs": [
    {
     "data": {
      "image/png": "[encoded data removed]",
      "text/plain": [
       "<matplotlib.figure.Figure at 0x7f8cbb9b3050>"
      ]
     },
     "metadata": {},
     "output_type": "display_data"
    }
   ],
   "source": [
    "# Vizualize the Bayes Factor, high absolute values imply statistical significance\n",
    "# Throughout the paper, we discuss 3 as a strong threshold\n",
    "plt.hist(st)\n",
    "plt.show()"
   ]
  },
  {
   "cell_type": "code",
   "execution_count": 114,
   "metadata": {},
   "outputs": [
    {
     "data": {
      "text/plain": [
       "(-3.433326763823402, 3.496569381446716)"
      ]
     },
     "execution_count": 114,
     "metadata": {},
     "output_type": "execute_result"
    }
   ],
   "source": [
    "st[np.where(gene_names == \"Thy1\")[0]][0], st[np.where(gene_names == \"Mbp\")[0]][0]"
   ]
  },
  {
   "cell_type": "markdown",
   "metadata": {},
   "source": [
    "# STEP 2: We add fake batch names and provide code to remove batch effects"
   ]
  },
  {
   "cell_type": "markdown",
   "metadata": {},
   "source": [
    "We hallucinate some batch effects in the data in order to show the user how to run scVI on batch data. "
   ]
  },
  {
   "cell_type": "code",
   "execution_count": 123,
   "metadata": {
    "collapsed": true
   },
   "outputs": [],
   "source": [
    "# usually the batch info would have been split with the sklearn train_test_split function\n",
    "b_train = np.zeros_like(c_train)\n",
    "b_train[::2] = 1\n",
    "b_test = np.zeros_like(c_test)\n",
    "b_test[::2] = 1"
   ]
  },
  {
   "cell_type": "markdown",
   "metadata": {},
   "source": [
    "First step towards removing batch effects, we adjust the library size prior to be batch-specific in order to model overall sample / library quality."
   ]
  },
  {
   "cell_type": "code",
   "execution_count": 119,
   "metadata": {},
   "outputs": [
    {
     "data": {
      "text/plain": [
       "[([8.4468653145212311], [0.44424142093526214]),\n",
       " ([8.4405417362460469], [0.43061329446712038])]"
      ]
     },
     "execution_count": 119,
     "metadata": {},
     "output_type": "execute_result"
    }
   ],
   "source": [
    "# compute prior for library size for each batch\n",
    "l_mean, l_var = [], []\n",
    "log_library_size = np.log(np.sum(expression_train, axis=1))\n",
    "for i in np.unique(b_train):\n",
    "    l_mean.append([np.mean(log_library_size[b_train == i])])\n",
    "    l_var.append([np.var(log_library_size[b_train == i])])\n",
    "    \n",
    "zip(*(l_mean, l_var))"
   ]
  },
  {
   "cell_type": "markdown",
   "metadata": {},
   "source": [
    "Nothing interesting here since everything is random, but this is really useful in practice !"
   ]
  },
  {
   "cell_type": "code",
   "execution_count": 121,
   "metadata": {},
   "outputs": [
    {
     "name": "stdout",
     "output_type": "stream",
     "text": [
      "Running scVI on 558 genes\n",
      "Got 2batches in the data\n",
      "Will not apply a MMD penalty\n",
      "Will work on mode list for incorporating library size\n",
      "Will work on mode gene for modeling inverse dispersion param\n",
      "Will apply zero inflation\n",
      "1 hidden layers at 128 each for a final 10 latent space\n"
     ]
    }
   ],
   "source": [
    "tf.reset_default_graph()\n",
    "expression = tf.placeholder(tf.float32, (None, expression_train.shape[1]), name='x')\n",
    "batch_ind = tf.placeholder(tf.int32, [None], name='b_ind')\n",
    "kl_scalar = tf.placeholder(tf.float32, (), name='kl_scalar')\n",
    "optimizer = tf.train.AdamOptimizer(learning_rate=learning_rate, epsilon=epsilon)\n",
    "training_phase = tf.placeholder(tf.bool, (), name='training_phase')\n",
    "mmd_scalar = tf.placeholder(tf.float32, [], name='l')\n",
    "\n",
    "# The dispersion parameter in scVI can be gene specific or gene-batch specific. Usually, gene is enough.\n",
    "model = scVI.scVIModel(expression=expression, batch_ind=batch_ind, num_batches=2, kl_scale=kl_scalar, \\\n",
    "                         apply_mmd=False, phase=training_phase, mmd_scale=mmd_scalar, optimize_algo=optimizer,  \\\n",
    "                          library_size_mean=tf.constant(l_mean), library_size_var=tf.constant(l_var), \\\n",
    "                           dispersion=\"gene\", n_latent=latent_dimension, n_layers=1)\n",
    "# Session creation\n",
    "sess = tf.Session()"
   ]
  },
  {
   "cell_type": "code",
   "execution_count": 124,
   "metadata": {
    "collapsed": true
   },
   "outputs": [],
   "source": [
    "sess.run(tf.global_variables_initializer())\n",
    "result = train_model(model, (expression_train, expression_test), sess, 120, batch=(b_train, b_test))"
   ]
  },
  {
   "cell_type": "markdown",
   "metadata": {},
   "source": [
    "we extend the differential expression code to choose a reference batch. Another option as chosen in the paper is to take the posterior by mixing over all possible references. That has a linear complexity in the number of batches and is therefore acceptable."
   ]
  },
  {
   "cell_type": "code",
   "execution_count": 125,
   "metadata": {
    "collapsed": true
   },
   "outputs": [],
   "source": [
    "def sample_posterior(model, X, b, M_z, reference_batch=0):\n",
    "    # shape and simulation\n",
    "    results = {}\n",
    "    ind = np.arange(X.shape[0])\n",
    "\n",
    "    # repeat the data for sampling\n",
    "    X_m = np.repeat(X, M_z, axis=0)\n",
    "    batch_m = np.repeat(b, M_z, axis=0)\n",
    "    ind = np.repeat(ind, M_z, axis=0)\n",
    "    \n",
    "    # repeat the same batch for regenerating\n",
    "    \n",
    "    batch_rm = reference_batch * np.ones(b.shape[0])\n",
    "    batch_rm = np.repeat(batch_rm, M_z, axis=0)\n",
    "    \n",
    "    #NN part\n",
    "    dic_x = {expression: X_m, batch_ind:batch_m, training_phase:False, kl_scalar:1., mmd_scalar: 100} \n",
    "    z_m, l_m = sess.run((model.z, model.library), feed_dict=dic_x)\n",
    "    dic_z = {model.z: z_m, model.library:l_m, batch_ind:batch_rm, training_phase:False, kl_scalar:1.}\n",
    "    rate = sess.run((model.px_scale), feed_dict=dic_x)\n",
    "    results[\"sample_rate\"] = rate\n",
    "    results[\"index\"] = ind\n",
    "    return results"
   ]
  },
  {
   "cell_type": "code",
   "execution_count": 126,
   "metadata": {
    "collapsed": true
   },
   "outputs": [],
   "source": [
    "def get_sampling(model, subset_a, subset_b, M_z, reference_batch=0):\n",
    "    #get q(z| xa) and q(z| xb) and sample M times from it, then output gamma parametrizations\n",
    "    x_a = expression_train[subset_a, :]\n",
    "    x_b = expression_train[subset_b, :]\n",
    "    res_a = sample_posterior(model, x_a, b_train[subset_a], M_z, reference_batch=reference_batch)\n",
    "    res_b = sample_posterior(model, x_b, b_train[subset_b], M_z, reference_batch=reference_batch)\n",
    "    return res_a, res_b"
   ]
  },
  {
   "cell_type": "code",
   "execution_count": 127,
   "metadata": {
    "collapsed": true
   },
   "outputs": [],
   "source": [
    "def get_statistics(res_a, res_b, M_p=10000, permutation=False):\n",
    "    \"\"\"\n",
    "    Output average over statistics in a symmetric way (a against b)\n",
    "    forget the sets if permutation is True\n",
    "    \"\"\"\n",
    "    \n",
    "    #agregate dataset\n",
    "    samples = np.vstack((res_a[\"sample_rate\"], res_b[\"sample_rate\"]))\n",
    "    \n",
    "    # prepare the pairs for sampling\n",
    "    list_1 = list(np.arange(res_a[\"sample_rate\"].shape[0]))\n",
    "    list_2 = list(res_a[\"sample_rate\"].shape[0] + np.arange(res_b[\"sample_rate\"].shape[0]))\n",
    "    if not permutation:\n",
    "        #case1: no permutation, sample from A and then from B\n",
    "        u, v = np.random.choice(list_1, size=M_p), np.random.choice(list_2, size=M_p)\n",
    "    else:\n",
    "        #case2: permutation, sample from A+B twice\n",
    "        u, v = (np.random.choice(list_1+list_2, size=M_p), \\\n",
    "                    np.random.choice(list_1+list_2, size=M_p))\n",
    "    \n",
    "    # then constitutes the pairs\n",
    "    first_set = samples[u]\n",
    "    second_set = samples[v]\n",
    "    \n",
    "    res = np.mean(first_set >= second_set, 0)\n",
    "    res = np.log(res) - np.log(1-res)\n",
    "    return res"
   ]
  },
  {
   "cell_type": "markdown",
   "metadata": {},
   "source": [
    "### That's all for today, do no hesitate to notify me if you believe something is missing on this notebook !"
   ]
  }
 ],
 "metadata": {
  "kernelspec": {
   "display_name": "Python 2",
   "language": "python",
   "name": "python2"
  },
  "language_info": {
   "codemirror_mode": {
    "name": "ipython",
    "version": 2
   },
   "file_extension": ".py",
   "mimetype": "text/x-python",
   "name": "python",
   "nbconvert_exporter": "python",
   "pygments_lexer": "ipython2",
   "version": "2.7.12"
  }
 },
 "nbformat": 4,
 "nbformat_minor": 2
}
